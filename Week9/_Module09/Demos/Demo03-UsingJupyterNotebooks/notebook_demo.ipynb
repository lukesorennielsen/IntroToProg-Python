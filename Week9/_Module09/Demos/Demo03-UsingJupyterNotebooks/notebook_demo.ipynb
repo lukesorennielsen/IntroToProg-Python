{
 "cells": [
  {
   "cell_type": "markdown",
   "id": "99f47b7c-28ef-40b7-b9e3-bd8deb76c3a2",
   "metadata": {},
   "source": [
    "# This is a example of using Markdown"
   ]
  },
  {
   "cell_type": "code",
   "execution_count": 1,
   "id": "7ad1d7da-cd36-44d8-b347-0662a123f167",
   "metadata": {},
   "outputs": [
    {
     "name": "stdout",
     "output_type": "stream",
     "text": [
      "test\n"
     ]
    }
   ],
   "source": [
    "print(\"test\")"
   ]
  },
  {
   "cell_type": "code",
   "execution_count": 2,
   "id": "b447ea7d-7b06-4d63-9bb0-d729a41ca10a",
   "metadata": {
    "scrolled": true
   },
   "outputs": [
    {
     "name": "stdout",
     "output_type": "stream",
     "text": [
      "{'FirstName': 'Shelbi', 'LastName': 'Rawne', 'GPA': 1}\n",
      "{'FirstName': 'Jamesy', 'LastName': 'Ivashinnikov', 'GPA': 3}\n",
      "{'FirstName': 'Lutero', 'LastName': 'Gatley', 'GPA': 4}\n",
      "{'FirstName': 'Wynne', 'LastName': 'MacKee', 'GPA': 3}\n",
      "{'FirstName': 'Shurwood', 'LastName': 'Brilleman', 'GPA': 4}\n",
      "{'FirstName': 'Zena', 'LastName': 'Gowenlock', 'GPA': 4}\n",
      "{'FirstName': 'Abramo', 'LastName': 'Fedynski', 'GPA': 3}\n",
      "{'FirstName': 'Troy', 'LastName': 'Portail', 'GPA': 2}\n",
      "{'FirstName': 'Maryann', 'LastName': 'Cormack', 'GPA': 2}\n",
      "{'FirstName': 'Blanch', 'LastName': 'Petel', 'GPA': 4}\n",
      "{'FirstName': 'Winn', 'LastName': 'Cromer', 'GPA': 4}\n",
      "{'FirstName': 'Jolie', 'LastName': 'Mossbee', 'GPA': 1}\n",
      "{'FirstName': 'Sibelle', 'LastName': 'Garaway', 'GPA': 2}\n",
      "{'FirstName': 'Hagen', 'LastName': 'Houlahan', 'GPA': 2}\n",
      "{'FirstName': 'Trista', 'LastName': 'Considine', 'GPA': 4}\n",
      "{'FirstName': 'Terencio', 'LastName': 'Ventris', 'GPA': 4}\n",
      "{'FirstName': 'Ansel', 'LastName': 'Grannell', 'GPA': 4}\n",
      "{'FirstName': 'Krysta', 'LastName': 'Grisley', 'GPA': 1}\n",
      "{'FirstName': 'Ingra', 'LastName': 'Leathard', 'GPA': 4}\n",
      "{'FirstName': 'Gray', 'LastName': 'Waeland', 'GPA': 4}\n",
      "{'FirstName': 'Jena', 'LastName': 'Rasmus', 'GPA': 4}\n",
      "{'FirstName': 'Marni', 'LastName': 'Maypole', 'GPA': 2}\n",
      "{'FirstName': 'Melly', 'LastName': 'Hustler', 'GPA': 4}\n",
      "{'FirstName': 'Sigismond', 'LastName': 'Sampson', 'GPA': 3}\n",
      "{'FirstName': 'Sandra', 'LastName': 'Turneaux', 'GPA': 2}\n",
      "{'FirstName': 'Dan', 'LastName': 'Scantleberry', 'GPA': 1}\n",
      "{'FirstName': 'Rufus', 'LastName': 'Pretley', 'GPA': 2}\n",
      "{'FirstName': 'Roarke', 'LastName': 'Pithie', 'GPA': 3}\n",
      "{'FirstName': 'Dulciana', 'LastName': 'Burnitt', 'GPA': 4}\n",
      "{'FirstName': 'Paulie', 'LastName': 'Sprulls', 'GPA': 3}\n",
      "{'FirstName': 'Clemens', 'LastName': 'Bartholomew', 'GPA': 1}\n",
      "{'FirstName': 'Evita', 'LastName': 'Mouncher', 'GPA': 3}\n",
      "{'FirstName': 'Barth', 'LastName': 'Coplestone', 'GPA': 3}\n",
      "{'FirstName': 'Conrado', 'LastName': 'Robbe', 'GPA': 1}\n",
      "{'FirstName': 'Donny', 'LastName': 'Brandi', 'GPA': 4}\n",
      "{'FirstName': 'Kliment', 'LastName': 'Poppy', 'GPA': 4}\n",
      "{'FirstName': 'Vinny', 'LastName': 'OGorman', 'GPA': 4}\n",
      "{'FirstName': 'Jock', 'LastName': 'Daws', 'GPA': 3}\n",
      "{'FirstName': 'Kasper', 'LastName': 'Endrighi', 'GPA': 2}\n",
      "{'FirstName': 'Brittany', 'LastName': 'Skeath', 'GPA': 1}\n",
      "{'FirstName': 'Farrel', 'LastName': 'Nannoni', 'GPA': 2}\n",
      "{'FirstName': 'Keane', 'LastName': 'Rugg', 'GPA': 2}\n",
      "{'FirstName': 'Tucker', 'LastName': 'Vigars', 'GPA': 1}\n",
      "{'FirstName': 'Gino', 'LastName': 'Parkhouse', 'GPA': 2}\n",
      "{'FirstName': 'Shawn', 'LastName': 'Stapele', 'GPA': 4}\n",
      "{'FirstName': 'Carly', 'LastName': 'Tatershall', 'GPA': 4}\n",
      "{'FirstName': 'Selia', 'LastName': 'Neenan', 'GPA': 3}\n",
      "{'FirstName': 'Camila', 'LastName': 'Leifer', 'GPA': 2}\n",
      "{'FirstName': 'Melinde', 'LastName': 'Hearthfield', 'GPA': 1}\n",
      "{'FirstName': 'Donnell', 'LastName': 'Sollowaye', 'GPA': 2}\n",
      "{'FirstName': 'Harland', 'LastName': 'Cocks', 'GPA': 4}\n",
      "{'FirstName': 'Willem', 'LastName': 'Oxtaby', 'GPA': 3}\n",
      "{'FirstName': 'Yetty', 'LastName': 'Sotham', 'GPA': 1}\n",
      "{'FirstName': 'Gayle', 'LastName': 'Gerbel', 'GPA': 2}\n",
      "{'FirstName': 'Herbert', 'LastName': 'Samet', 'GPA': 3}\n",
      "{'FirstName': 'Willetta', 'LastName': 'Fabri', 'GPA': 2}\n",
      "{'FirstName': 'Benjie', 'LastName': 'Wisden', 'GPA': 3}\n",
      "{'FirstName': 'Gladi', 'LastName': 'Tunnacliffe', 'GPA': 1}\n",
      "{'FirstName': 'Karilynn', 'LastName': 'Crips', 'GPA': 2}\n",
      "{'FirstName': 'Sayers', 'LastName': 'Ansill', 'GPA': 4}\n",
      "{'FirstName': 'Faun', 'LastName': 'Marciek', 'GPA': 1}\n",
      "{'FirstName': 'Vite', 'LastName': 'Lambdean', 'GPA': 4}\n",
      "{'FirstName': 'Margareta', 'LastName': 'Scollan', 'GPA': 2}\n",
      "{'FirstName': 'Maximilien', 'LastName': 'Laws', 'GPA': 2}\n",
      "{'FirstName': 'Ellyn', 'LastName': 'Mablestone', 'GPA': 2}\n",
      "{'FirstName': 'Minni', 'LastName': 'Chilcotte', 'GPA': 1}\n",
      "{'FirstName': 'Curr', 'LastName': 'Howsego', 'GPA': 1}\n",
      "{'FirstName': 'Charmain', 'LastName': 'Sharry', 'GPA': 3}\n",
      "{'FirstName': 'Norby', 'LastName': 'Liggins', 'GPA': 4}\n",
      "{'FirstName': 'Storm', 'LastName': 'Blewitt', 'GPA': 3}\n",
      "{'FirstName': 'Vilma', 'LastName': 'Bart', 'GPA': 4}\n",
      "{'FirstName': 'Persis', 'LastName': 'Sangwine', 'GPA': 2}\n",
      "{'FirstName': 'Conni', 'LastName': 'Oluwatoyin', 'GPA': 3}\n",
      "{'FirstName': 'Crichton', 'LastName': 'Gideon', 'GPA': 4}\n",
      "{'FirstName': 'Barty', 'LastName': 'Barge', 'GPA': 4}\n",
      "{'FirstName': 'Tome', 'LastName': 'Rapper', 'GPA': 2}\n",
      "{'FirstName': 'Phylys', 'LastName': 'Coward', 'GPA': 1}\n",
      "{'FirstName': 'Killie', 'LastName': 'Gabbitas', 'GPA': 4}\n",
      "{'FirstName': 'Cami', 'LastName': 'Iacopetti', 'GPA': 4}\n",
      "{'FirstName': 'Curran', 'LastName': 'Berndsen', 'GPA': 4}\n",
      "{'FirstName': 'Alvina', 'LastName': 'Gullyes', 'GPA': 3}\n",
      "{'FirstName': 'Jennee', 'LastName': 'Daybell', 'GPA': 1}\n",
      "{'FirstName': 'Ted', 'LastName': 'Murfin', 'GPA': 4}\n",
      "{'FirstName': 'Hanan', 'LastName': 'LeLievre', 'GPA': 2}\n",
      "{'FirstName': 'Bellina', 'LastName': 'Bentson', 'GPA': 4}\n",
      "{'FirstName': 'Tabbie', 'LastName': 'Spadelli', 'GPA': 3}\n",
      "{'FirstName': 'Cally', 'LastName': 'Fain', 'GPA': 1}\n",
      "{'FirstName': 'Saunder', 'LastName': 'Giles', 'GPA': 1}\n",
      "{'FirstName': 'Cullin', 'LastName': 'MacCoughan', 'GPA': 2}\n",
      "{'FirstName': 'Caz', 'LastName': 'Stiell', 'GPA': 1}\n",
      "{'FirstName': 'Hadrian', 'LastName': 'Vaz', 'GPA': 2}\n",
      "{'FirstName': 'Lillis', 'LastName': 'Fittes', 'GPA': 4}\n",
      "{'FirstName': 'Marcel', 'LastName': 'Bowkley', 'GPA': 2}\n",
      "{'FirstName': 'Dre', 'LastName': 'Battelle', 'GPA': 3}\n",
      "{'FirstName': 'Erhart', 'LastName': 'Lewsey', 'GPA': 1}\n",
      "{'FirstName': 'Cornelius', 'LastName': 'Arnald', 'GPA': 4}\n",
      "{'FirstName': 'Gwendolyn', 'LastName': 'Gatfield', 'GPA': 4}\n",
      "{'FirstName': 'Kelwin', 'LastName': 'Falcus', 'GPA': 3}\n",
      "{'FirstName': 'Washington', 'LastName': 'Mellmoth', 'GPA': 3}\n",
      "{'FirstName': 'Vita', 'LastName': 'Ablewhite', 'GPA': 1}\n"
     ]
    }
   ],
   "source": [
    "import json\n",
    "list_of_dictionary_data: list = []\n",
    "\n",
    "with open(\"GPAData.json\", \"r\") as file:\n",
    "    list_of_dictionary_data = json.load(file)\n",
    "for row in list_of_dictionary_data:\n",
    "    print(row)\n"
   ]
  },
  {
   "cell_type": "code",
   "execution_count": 6,
   "id": "5b5c6cc1-199f-4519-a4d9-74c5ff2b3901",
   "metadata": {},
   "outputs": [
    {
     "data": {
      "image/png": "[encoded data removed]",
      "text/plain": [
       "<Figure size 600x400 with 1 Axes>"
      ]
     },
     "metadata": {},
     "output_type": "display_data"
    }
   ],
   "source": [
    "import matplotlib.pyplot as plt\n",
    "import json\n",
    "\n",
    "# Extract GPAs from the data\n",
    "with open(\"GPAData.json\", \"r\") as file:\n",
    "    list_of_dictionary_data = json.load(file)\n",
    "    \n",
    "gpas = [entry[\"GPA\"] for entry in list_of_dictionary_data]\n",
    "    \n",
    "# Count the occurrences of each GPA value\n",
    "gpa_counts = {gpa: gpas.count(gpa) for gpa in set(gpas)}\n",
    "\n",
    "# Sort the GPA values for plotting\n",
    "sorted_gpas = sorted(gpa_counts.keys())\n",
    "\n",
    "# Corresponding counts for the sorted GPAs\n",
    "count_values = [gpa_counts[gpa] for gpa in sorted_gpas]\n",
    "\n",
    "# Create the bar chart\n",
    "plt.figure(figsize=(6, 4))\n",
    "plt.barh(sorted_gpas, count_values, align='center', alpha=0.7)  # Use barh for horizontal bars\n",
    "plt.xlabel('Count')\n",
    "plt.ylabel('GPA')\n",
    "plt.title('Distribution of GPAs')\n",
    "plt.yticks(sorted_gpas)\n",
    "plt.grid(axis='x', linestyle='--', alpha=0.7)  # Adjust grid for horizontal bars\n",
    "plt.show()\n"
   ]
  },
  {
   "cell_type": "code",
   "execution_count": null,
   "id": "dcd402c9-d52c-41a2-a756-7c22bcac88bc",
   "metadata": {},
   "outputs": [],
   "source": []
  }
 ],
 "metadata": {
  "kernelspec": {
   "display_name": "Python 3 (ipykernel)",
   "language": "python",
   "name": "python3"
  },
  "language_info": {
   "codemirror_mode": {
    "name": "ipython",
    "version": 3
   },
   "file_extension": ".py",
   "mimetype": "text/x-python",
   "name": "python",
   "nbconvert_exporter": "python",
   "pygments_lexer": "ipython3",
   "version": "3.11.4"
  }
 },
 "nbformat": 4,
 "nbformat_minor": 5
}
